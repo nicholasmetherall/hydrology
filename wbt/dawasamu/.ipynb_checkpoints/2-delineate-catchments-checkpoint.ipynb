{
 "cells": [
  {
   "cell_type": "code",
   "execution_count": 2,
   "id": "fec3b577-a4b2-4b34-85a3-42b923f4b269",
   "metadata": {},
   "outputs": [],
   "source": [
    "import numpy as np\n",
    "import matplotlib.pyplot as plt\n",
    "import matplotlib.colors as colors\n",
    "# from pysheds.grid import Grid\n",
    "import seaborn as sns\n",
    "import warnings\n",
    "warnings.filterwarnings('ignore')\n",
    "import rasterio\n",
    "import geopandas as gpd\n",
    "from rasterio.transform import from_origin\n",
    "from rasterio.warp import calculate_default_transform, reproject, Resampling\n",
    "import rasterio.plot\n",
    "from rasterio.plot import plotting_extent\n",
    "import whitebox\n",
    "%matplotlib inline\n",
    "wbt = whitebox.WhiteboxTools()\n",
    "wbt.set_working_dir(\".\")"
   ]
  },
  {
   "cell_type": "code",
   "execution_count": 3,
   "id": "dadc44c5-5df4-4bf1-879d-8924d6f4d8df",
   "metadata": {},
   "outputs": [
    {
     "name": "stdout",
     "output_type": "stream",
     "text": [
      "/srv/conda/envs/notebook/lib/python3.10/site-packages/whitebox/whitebox_tools\n",
      "Exists: True\n",
      "Executable: True\n"
     ]
    }
   ],
   "source": [
    "wbt = whitebox.WhiteboxTools()\n",
    "wbt.set_whitebox_dir(\"/srv/conda/envs/notebook/lib/python3.10/site-packages/whitebox/whitebox_tools\")\n",
    "print(wbt.exe_path)\n",
    "import os\n",
    "print(\"Exists:\", os.path.isfile(wbt.exe_path))\n",
    "print(\"Executable:\", os.access(wbt.exe_path, os.X_OK))\n",
    "\n",
    "wbt = whitebox.WhiteboxTools()\n",
    "# print(\"WhiteboxTools exe path:\", wbt.exe_path)  # Should print the path to whitebox_tools.exe"
   ]
  },
  {
   "cell_type": "code",
   "execution_count": 5,
   "id": "3292cef7-5741-42ad-9b1b-59c74b40aee1",
   "metadata": {},
   "outputs": [],
   "source": [
    "# with rasterio.open('0-dem.tif') as src:\n",
    "#     data = src.read(1)\n",
    "# print(src.crs)\n",
    "# plt.imshow(data, cmap='cubehelix', vmin=0)\n",
    "# plt.title('DEM-masked')\n",
    "# plt.show()"
   ]
  },
  {
   "cell_type": "code",
   "execution_count": 16,
   "id": "3712aa00-6726-4c82-83c0-ce7747c879cb",
   "metadata": {},
   "outputs": [
    {
     "name": "stdout",
     "output_type": "stream",
     "text": [
      "EPSG:32760\n",
      "./whitebox_tools --run=\"SnapPourPoints\" --pour_pts='pourpoints/pourpoint_utm.shp' --flow_accum='5-d8-flow-accumulation.tif' --output='pourpoints/snapped-pourpoints.shp' --snap_dist='60' -v --compress_rasters=False\n",
      "\n",
      "*****************************\n",
      "* Welcome to SnapPourPoints *\n",
      "* Powered by WhiteboxTools  *\n",
      "* www.whiteboxgeo.com       *\n",
      "*****************************\n",
      "Reading data...\n",
      "thread 'main' panicked at whitebox-vector/src/shapefile/mod.rs:238:56:\n",
      "called `Result::unwrap()` on an `Err` value: Os { code: 2, kind: NotFound, message: \"No such file or directory\" }\n",
      "note: run with `RUST_BACKTRACE=1` environment variable to display a backtrace\n"
     ]
    },
    {
     "data": {
      "text/plain": [
       "0"
      ]
     },
     "execution_count": 16,
     "metadata": {},
     "output_type": "execute_result"
    }
   ],
   "source": [
    "# Preprocess crs of pourpoints:\n",
    "pourpoints = gpd.read_file(\"pourpoints/pourpoint_utm.shp\")\n",
    "pourpoints = pourpoints.to_crs(\"EPSG:32760\")\n",
    "pourpoints.to_file(\"pourpoints/pourpoint_utm.shp\")\n",
    "print(pourpoints.crs)\n",
    "\n",
    "wbt.snap_pour_points(\"pourpoints/pourpoint_utm.shp\", \"5-d8-flow-accumulation.tif\", \"pourpoints/snapped-pourpoints.shp\", 60)\n",
    "# print(wbt.tool_help(\"snap_pour_points\"))\n",
    "\n",
    "# wbt.snap_pour_points(pourpoints, \"pourpoints/snapped-pourpoints.shp\", 60)"
   ]
  },
  {
   "cell_type": "code",
   "execution_count": null,
   "id": "3d247f2e-f4ed-4ab8-aaff-59ac4696350b",
   "metadata": {},
   "outputs": [],
   "source": [
    "with rasterio.open(\n",
    "    '4-d8-flowdir2.tif', 'w',\n",
    "    driver='GTiff',\n",
    "    height=array.shape[0],\n",
    "    width=array.shape[1],\n",
    "    count=1,\n",
    "    meta = src.meta.copy()\n",
    "    meta.update({'nodata': -9999})  # or whatever value is appropriate\n",
    "    with rasterio.open('output.tif', 'w', **meta) as dst:\n",
    "    dst.write(array, 1)\n",
    "    dtype=array.dtype,\n",
    "    crs='EPSG:32760',  # or your CRS\n",
    "    transform=transform  # must be set correctly\n",
    ") as dst:\n",
    "    dst.write(array, 1)"
   ]
  },
  {
   "cell_type": "code",
   "execution_count": 8,
   "id": "727f4be3-093e-436f-80fa-4993d5e78a96",
   "metadata": {},
   "outputs": [
    {
     "data": {
      "application/vnd.jupyter.widget-view+json": {
       "model_id": "d64a2754ed4149ddb963fde25b82a2e4",
       "version_major": 2,
       "version_minor": 0
      },
      "text/plain": [
       "HBox(children=(VBox(children=(Select(layout=Layout(height='175px', width='170px'), options=('All Tools', 'Math…"
      ]
     },
     "execution_count": 8,
     "metadata": {},
     "output_type": "execute_result"
    }
   ],
   "source": [
    "import whiteboxgui\n",
    "whiteboxgui.show()"
   ]
  },
  {
   "cell_type": "code",
   "execution_count": null,
   "id": "ad3498db-b260-4280-9d23-fbfc246fc673",
   "metadata": {},
   "outputs": [],
   "source": [
    "raster_path = \"/home/jovyan/hydrology-modelling/wbt/dawasamu/4-d8-flow-direction.tif\"\n",
    "points_path = \"/home/jovyan/hydrology-modelling/wbt/dawasamu/pourpoints/snapped-pourpoints.shp\"\n",
    "\n",
    "with rasterio.open(raster_path) as src:\n",
    "    raster = src.read(1)\n",
    "    nodata = src.nodata\n",
    "    points = gpd.read_file(points_path)\n",
    "    if points.crs != src.crs:\n",
    "        points = points.to_crs(src.crs)\n",
    "    for idx, row in points.iterrows():\n",
    "        x, y = row.geometry.x, row.geometry.y\n",
    "        rowcol = src.index(x, y)\n",
    "        try:\n",
    "            val = raster[rowcol[0], rowcol[1]]\n",
    "            print(f\"Point {idx} at ({x}, {y}): Value = {val}\")\n",
    "        except IndexError:\n",
    "            print(f\"Point {idx} at ({x}, {y}): OUTSIDE raster\")"
   ]
  },
  {
   "cell_type": "markdown",
   "id": "61e975d0-bf01-46c7-987f-f94199a985da",
   "metadata": {
    "jp-MarkdownHeadingCollapsed": true
   },
   "source": [
    "### 2. Fill nodata\n",
    "\n",
    "2.1. Filter Dimension : 11\n",
    "\n",
    "2.2. IDW Weight (exponent) value : 2.0\n",
    "\n",
    "##### Input: `1-dem-masked`\n",
    "##### Output: `2-cleared-nodata-dem`"
   ]
  },
  {
   "cell_type": "markdown",
   "id": "e31b1baa-885c-4373-b18f-767abe3f62ef",
   "metadata": {},
   "source": [
    "### 3. FillDepressions\n",
    "\n",
    "2.1. Flat increment \n",
    "Use a value just above the DEM’s vertical precision (i.e. 0.01 for cm, 1.00 for m\n",
    "\n",
    "2.2. Max depth\n",
    "Leave blank or set very high if you want to fill all depressions (the most common case).\n",
    "##### Input: `2-cleared-nodata-dem`\n",
    "##### Output: `3-filled-dem`"
   ]
  },
  {
   "cell_type": "code",
   "execution_count": null,
   "id": "1758a64d-facf-43b4-8a8c-223b1fddb2fb",
   "metadata": {},
   "outputs": [],
   "source": [
    "with rasterio.open('3-filled-dem.tif') as src:\n",
    "    data = src.read(1)\n",
    "    # Optional: log transform for better visualization\n",
    "    # data = np.log1p(data)\n",
    "    plt.imshow(data, cmap='terrain', vmin=0)\n",
    "    plt.title('Flow Accumulation (log-transformed)')\n",
    "    plt.show()"
   ]
  },
  {
   "cell_type": "markdown",
   "id": "38fd5090-6152-423d-ac35-d1c88d1f73dd",
   "metadata": {},
   "source": [
    "#### 4. D8Pointer\n",
    "Generate Flow direction d8 pointer. Input DEM File, select ouptut file path.\n",
    "##### Input: `3-filled-dem`\n",
    "##### Output: `4-d8-flow-direction`"
   ]
  },
  {
   "cell_type": "code",
   "execution_count": null,
   "id": "51bc15c9-1ab2-4bd8-bb2b-cbb0492e0329",
   "metadata": {},
   "outputs": [],
   "source": [
    "with rasterio.open('4-d8-flow-direction.tif') as src:\n",
    "    data = src.read(1)\n",
    "    print(src.crs)\n",
    "    # Optional: log transform for better visualization\n",
    "    plt.imshow(data, cmap='cubehelix', vmin=0)\n",
    "    plt.title('Flow Direction')\n",
    "    plt.show()"
   ]
  },
  {
   "cell_type": "markdown",
   "id": "c591ec27-1014-4cb3-918a-4abe4066fbe8",
   "metadata": {},
   "source": [
    "#### 5. D8FlowAccumulation \n",
    "Generate Flow accumulation. Input DEM File, select ouptut file path. \n",
    "##### Input: `4-d8-flow-direction`\n",
    "##### Output: `5-d8-flow-accumulation`\n",
    "a) output type: catchment area  \n",
    "b) exponent parameter: leave at default 1.1.  \n",
    "c) is the input raster the d8: tick if yes   \n",
    "d) convergence threshold: for d8 leave this blank  \n",
    "e) log transform output: tick if there are several orders of magnitude you want to visualise  \n",
    "f) clip the upper tail by 1%?: Tick for visualisation"
   ]
  },
  {
   "cell_type": "code",
   "execution_count": 7,
   "id": "d8d4dec1-109a-4a7b-b127-662d0e23a97f",
   "metadata": {},
   "outputs": [
    {
     "data": {
      "image/png": "[encoded data removed]",
      "text/plain": [
       "<Figure size 640x480 with 2 Axes>"
      ]
     },
     "metadata": {},
     "output_type": "display_data"
    }
   ],
   "source": [
    "with rasterio.open('5-d8-flow-accumulation.tif') as src:\n",
    "    data = src.read(1)\n",
    "    # Optional: log transform for better visualization\n",
    "    data_log = np.log1p(data)\n",
    "    plt.imshow(data_log, cmap='cubehelix', vmin=0)\n",
    "    plt.colorbar(label='log(flow accumulation)')\n",
    "    plt.title('Flow Accumulation (log-transformed)')\n",
    "    plt.show()"
   ]
  },
  {
   "cell_type": "code",
   "execution_count": 17,
   "id": "6c755e0a-0b56-4156-a0d6-1be0be6d17b3",
   "metadata": {},
   "outputs": [
    {
     "name": "stdout",
     "output_type": "stream",
     "text": [
      "./whitebox_tools --run=\"Watershed\" --d8_pntr='4-d8-flow-direction.tif' --pour_pts='pourpoints/snapped-pourpoints.shp' --output='watersheds.tif' -v --compress_rasters=False\n",
      "\n",
      "****************************\n",
      "* Welcome to Watershed     *\n",
      "* Powered by WhiteboxTools *\n",
      "* www.whiteboxgeo.com      *\n",
      "****************************\n",
      "Reading data...\n",
      "thread 'main' panicked at whitebox-tools-app/src/main.rs:72:21:\n",
      "No such file or directory (os error 2)\n",
      "note: run with `RUST_BACKTRACE=1` environment variable to display a backtrace\n"
     ]
    },
    {
     "data": {
      "text/plain": [
       "0"
      ]
     },
     "execution_count": 17,
     "metadata": {},
     "output_type": "execute_result"
    }
   ],
   "source": [
    "# # Call a tool, e.g. D8 flow pointer\n",
    "# wbt.d8_pointer(\n",
    "#     dem=\"dem.tif\",\n",
    "#     output=\"d8_pointer.tif\"\n",
    "# )\n",
    "\n",
    "# Call watershed tool\n",
    "wbt.watershed(\n",
    "    d8_pntr=\"4-d8-flow-direction.tif\",\n",
    "    pour_pts=\"pourpoints/snapped-pourpoints.shp\",\n",
    "    output=\"watersheds.tif\"\n",
    ")"
   ]
  },
  {
   "cell_type": "code",
   "execution_count": null,
   "id": "a62fe506-926c-479f-8257-77ab91ac20c3",
   "metadata": {},
   "outputs": [],
   "source": []
  },
  {
   "cell_type": "code",
   "execution_count": null,
   "id": "7fc61a21-7ad0-4cf2-aea5-1bee9fc55faa",
   "metadata": {},
   "outputs": [],
   "source": [
    "\n",
    "\n",
    "# The most convenient way to run a tool is to use its associated method, e.g.:\n",
    "# wbt.elev_percentile(\"DEM.tif\", \"output.tif\", 15, 15)\n",
    "# You may also provide an optional custom callback for processing output from the\n",
    "# tool. If you don't provide a callback, and verbose is set to True, tool output\n",
    "# will simply be printed to the standard output.\n",
    "\n",
    "# Prints the whitebox-tools help...a listing of available commands\n",
    "print(wbt.help())"
   ]
  },
  {
   "cell_type": "markdown",
   "id": "d20102d5-91c5-47ef-bb9c-e80e0de5e830",
   "metadata": {},
   "source": [
    "#### 5. Extract streams tool  \n",
    "In order to generate pourpoints given that we are not sure where exactly these should be. \n",
    "##### Input: `5-d8p-flowaccumulation`\n",
    "##### Output: `6-extract-streams`\n",
    "Channelization thresholds: Small watersheds: 50–500, Large areas: 1000–10000\n",
    "Background value of zero: a) Use zero if you want to perform further raster math or masking. b) Use NoData if you want a clear delineation of \"stream vs. not stream\" in visualization.\n"
   ]
  },
  {
   "cell_type": "code",
   "execution_count": 23,
   "id": "e9b217e7-4156-4652-b8ed-4642b2447ca4",
   "metadata": {},
   "outputs": [
    {
     "data": {
      "image/png": "[encoded data removed]",
      "text/plain": [
       "<Figure size 640x480 with 2 Axes>"
      ]
     },
     "metadata": {},
     "output_type": "display_data"
    }
   ],
   "source": [
    "with rasterio.open('6-extract-streams.tif') as src:\n",
    "    data = src.read(1)\n",
    "    # Optional: log transform for better visualization\n",
    "    data_log = np.log1p(data)\n",
    "    plt.imshow(data_log, cmap='cubehelix', vmin=0)\n",
    "    plt.colorbar(label='log(flow accumulation)')\n",
    "    plt.title('Flow Accumulation (log-transformed)')\n",
    "    plt.show()"
   ]
  },
  {
   "cell_type": "markdown",
   "id": "2d5c588d-622f-4153-8275-c6963eb3e811",
   "metadata": {},
   "source": [
    "6. Snap pourpoints\n",
    "Firstly export flow accumulation and extract streams to QGIS. Then digitise pourpoints. Then rasterise. Burn a unique value for each point depending on the id: corresponding to each distinct catchment. Then upload and re-input.    \n",
    "\n",
    "In order to generate pourpoints given that we are not sure where exactly these should be.\n",
    "\n",
    "Input: 5-d8p-flowaccumulation\n",
    "Output: 6-extract-streams"
   ]
  },
  {
   "cell_type": "markdown",
   "id": "f5434c47-75a0-4920-b4d3-1d5b2bc16f1a",
   "metadata": {},
   "source": [
    "\n",
    "\n",
    "\n",
    "\n",
    "\n",
    "\n"
   ]
  },
  {
   "cell_type": "code",
   "execution_count": null,
   "id": "7988ce98-1d0b-4923-82de-be3dd3c791b0",
   "metadata": {},
   "outputs": [],
   "source": []
  },
  {
   "cell_type": "code",
   "execution_count": null,
   "id": "840c9c47-1d3a-43cf-9f5f-b91bb3c0cd2b",
   "metadata": {},
   "outputs": [],
   "source": []
  },
  {
   "cell_type": "code",
   "execution_count": null,
   "id": "008a2605-7519-4592-af72-632d1218a033",
   "metadata": {},
   "outputs": [],
   "source": []
  },
  {
   "cell_type": "code",
   "execution_count": null,
   "id": "ae80d0ca-f51a-4ad7-968e-bf3d0ca355a1",
   "metadata": {},
   "outputs": [],
   "source": []
  }
 ],
 "metadata": {
  "kernelspec": {
   "display_name": "Python 3 (ipykernel)",
   "language": "python",
   "name": "python3"
  },
  "language_info": {
   "codemirror_mode": {
    "name": "ipython",
    "version": 3
   },
   "file_extension": ".py",
   "mimetype": "text/x-python",
   "name": "python",
   "nbconvert_exporter": "python",
   "pygments_lexer": "ipython3",
   "version": "3.10.18"
  }
 },
 "nbformat": 4,
 "nbformat_minor": 5
}
