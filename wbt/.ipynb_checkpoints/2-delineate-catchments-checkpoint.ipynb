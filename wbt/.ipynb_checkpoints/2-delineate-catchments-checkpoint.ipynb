{
 "cells": [
  {
   "cell_type": "code",
   "execution_count": 7,
   "id": "fec3b577-a4b2-4b34-85a3-42b923f4b269",
   "metadata": {},
   "outputs": [],
   "source": [
    "import numpy as np\n",
    "import matplotlib.pyplot as plt\n",
    "import matplotlib.colors as colors\n",
    "# from pysheds.grid import Grid\n",
    "import seaborn as sns\n",
    "import warnings\n",
    "warnings.filterwarnings('ignore')\n",
    "import rasterio\n",
    "from rasterio.transform import from_origin\n",
    "from rasterio.warp import calculate_default_transform, reproject, Resampling\n",
    "\n",
    "import whitebox\n",
    "%matplotlib inline\n",
    "wbt = whitebox.WhiteboxTools()\n",
    "wbt.set_working_dir(\".\")"
   ]
  },
  {
   "cell_type": "code",
   "execution_count": 16,
   "id": "dadc44c5-5df4-4bf1-879d-8924d6f4d8df",
   "metadata": {},
   "outputs": [
    {
     "name": "stdout",
     "output_type": "stream",
     "text": [
      "/srv/conda/envs/notebook/lib/python3.10/site-packages/whitebox/whitebox_tools\n",
      "Exists: True\n",
      "Executable: True\n",
      "./whitebox_tools --run=\"FillDepressions\" --dem='2-warped-dem-utm.tif' --output='3-dem-filled.tif' --fix_flats -v --compress_rasters=False\n",
      "\n",
      "******************************\n",
      "* Welcome to FillDepressions *\n",
      "* Powered by WhiteboxTools   *\n",
      "* www.whiteboxgeo.com        *\n",
      "******************************\n",
      "Reading data...\n",
      "thread 'main' panicked at whitebox-tools-app/src/main.rs:72:21:\n",
      "No such file or directory (os error 2)\n",
      "note: run with `RUST_BACKTRACE=1` environment variable to display a backtrace\n"
     ]
    },
    {
     "data": {
      "text/plain": [
       "0"
      ]
     },
     "execution_count": 16,
     "metadata": {},
     "output_type": "execute_result"
    }
   ],
   "source": [
    "import whitebox\n",
    "wbt = whitebox.WhiteboxTools()\n",
    "wbt.set_whitebox_dir(\"/srv/conda/envs/notebook/lib/python3.10/site-packages/whitebox/whitebox_tools\")\n",
    "print(wbt.exe_path)\n",
    "import os\n",
    "print(\"Exists:\", os.path.isfile(wbt.exe_path))\n",
    "print(\"Executable:\", os.access(wbt.exe_path, os.X_OK))\n",
    "\n",
    "wbt = whitebox.WhiteboxTools()\n",
    "# print(\"WhiteboxTools exe path:\", wbt.exe_path)  # Should print the path to whitebox_tools.exe\n",
    "\n",
    "# Example: Fill depressions\n",
    "wbt.fill_depressions(\n",
    "    dem=\"2-warped-dem-utm.tif\",\n",
    "    output=\"3-dem-filled.tif\",\n",
    "    fix_flats=True\n",
    ")"
   ]
  },
  {
   "cell_type": "code",
   "execution_count": 17,
   "id": "1b173233-1a37-4220-ab97-4604083536d3",
   "metadata": {},
   "outputs": [
    {
     "name": "stdout",
     "output_type": "stream",
     "text": [
      "./whitebox_tools --run=\"FillDepressions\" --dem='/hydrology-modelling/wbt/2-warped-dem-utm.tif' --output='3-dem-filled.tif' --fix_flats -v --compress_rasters=False\n",
      "\n",
      "******************************\n",
      "* Welcome to FillDepressions *\n",
      "* Powered by WhiteboxTools   *\n",
      "* www.whiteboxgeo.com        *\n",
      "******************************\n",
      "Reading data...\n",
      "thread 'main' panicked at whitebox-tools-app/src/main.rs:72:21:\n",
      "No such file or directory (os error 2)\n",
      "note: run with `RUST_BACKTRACE=1` environment variable to display a backtrace\n"
     ]
    },
    {
     "data": {
      "text/plain": [
       "0"
      ]
     },
     "execution_count": 17,
     "metadata": {},
     "output_type": "execute_result"
    }
   ],
   "source": [
    "wbt.fill_depressions(\n",
    "    dem=\"/hydrology-modelling/wbt/2-warped-dem-utm.tif\",   # Use your actual path\n",
    "    output=\"3-dem-filled.tif\",\n",
    "    fix_flats=True\n",
    ")"
   ]
  },
  {
   "cell_type": "code",
   "execution_count": 23,
   "id": "fc24e25b-2183-4e00-afc5-6eae9c8161bd",
   "metadata": {},
   "outputs": [
    {
     "ename": "AttributeError",
     "evalue": "'WhiteboxTools' object has no attribute 'set_whitebox_exe_file'",
     "output_type": "error",
     "traceback": [
      "\u001b[0;31m---------------------------------------------------------------------------\u001b[0m",
      "\u001b[0;31mAttributeError\u001b[0m                            Traceback (most recent call last)",
      "Cell \u001b[0;32mIn[23], line 2\u001b[0m\n\u001b[1;32m      1\u001b[0m wbt \u001b[38;5;241m=\u001b[39m whitebox\u001b[38;5;241m.\u001b[39mWhiteboxTools()\n\u001b[0;32m----> 2\u001b[0m \u001b[43mwbt\u001b[49m\u001b[38;5;241;43m.\u001b[39;49m\u001b[43mset_whitebox_exe_file\u001b[49m(\u001b[38;5;124m\"\u001b[39m\u001b[38;5;124m/srv/conda/envs/notebook/lib/python3.10/site-packages/whitebox/whitebox_tools\u001b[39m\u001b[38;5;124m\"\u001b[39m)\n\u001b[1;32m      3\u001b[0m wbt\u001b[38;5;241m.\u001b[39mfill_depressions(\n\u001b[1;32m      4\u001b[0m     dem\u001b[38;5;241m=\u001b[39m\u001b[38;5;124m\"\u001b[39m\u001b[38;5;124m2-warped-dem-utm.tif\u001b[39m\u001b[38;5;124m\"\u001b[39m,\n\u001b[1;32m      5\u001b[0m     output\u001b[38;5;241m=\u001b[39m\u001b[38;5;124m\"\u001b[39m\u001b[38;5;124m3-dem-filled.tif\u001b[39m\u001b[38;5;124m\"\u001b[39m,\n\u001b[1;32m      6\u001b[0m     fix_flats\u001b[38;5;241m=\u001b[39m\u001b[38;5;28;01mTrue\u001b[39;00m\n\u001b[1;32m      7\u001b[0m )\n",
      "\u001b[0;31mAttributeError\u001b[0m: 'WhiteboxTools' object has no attribute 'set_whitebox_exe_file'"
     ]
    }
   ],
   "source": [
    "wbt = whitebox.WhiteboxTools()\n",
    "wbt.set_whitebox_exe_file(\"/srv/conda/envs/notebook/lib/python3.10/site-packages/whitebox/whitebox_tools\")\n",
    "wbt.fill_depressions(\n",
    "    dem=\"2-warped-dem-utm.tif\",\n",
    "    output=\"3-dem-filled.tif\",\n",
    "    fix_flats=True\n",
    ")"
   ]
  },
  {
   "cell_type": "code",
   "execution_count": 18,
   "id": "b6dd8f1d-b80c-431f-8777-682e4002c528",
   "metadata": {},
   "outputs": [
    {
     "name": "stdout",
     "output_type": "stream",
     "text": [
      "ls: cannot access '/hydrology-modelling/wbt/2-warped-dem-utm.tif': No such file or directory\n"
     ]
    }
   ],
   "source": [
    "ls -l /hydrology-modelling/wbt/2-warped-dem-utm.tif\n"
   ]
  },
  {
   "cell_type": "code",
   "execution_count": 9,
   "id": "69c2d70d-1da7-4011-a306-cffb765b1c82",
   "metadata": {},
   "outputs": [
    {
     "name": "stdout",
     "output_type": "stream",
     "text": [
      "['1-source-dem.ipynb', '2-warped-dem-utm.tif', 'first_attempt', '2-delineate-catchments.ipynb', '1-dem-masked.tif', '.ipynb_checkpoints']\n"
     ]
    }
   ],
   "source": [
    "import os\n",
    "print(os.listdir('.'))"
   ]
  },
  {
   "cell_type": "code",
   "execution_count": 10,
   "id": "2ca58264-1df8-4e4d-af94-6ba64bc59774",
   "metadata": {},
   "outputs": [
    {
     "name": "stdout",
     "output_type": "stream",
     "text": [
      "./whitebox_tools --run=\"FillDepressions\" --dem='2-warped-dem-utm.tif' --output='3-dem-filled.tif' --fix_flats -v --compress_rasters=False\n",
      "\n",
      "******************************\n",
      "* Welcome to FillDepressions *\n",
      "* Powered by WhiteboxTools   *\n",
      "* www.whiteboxgeo.com        *\n",
      "******************************\n",
      "Reading data...\n",
      "thread 'main' panicked at whitebox-tools-app/src/main.rs:72:21:\n",
      "No such file or directory (os error 2)\n",
      "note: run with `RUST_BACKTRACE=1` environment variable to display a backtrace\n"
     ]
    },
    {
     "data": {
      "text/plain": [
       "0"
      ]
     },
     "execution_count": 10,
     "metadata": {},
     "output_type": "execute_result"
    }
   ],
   "source": [
    "wbt = whitebox.WhiteboxTools()\n",
    "# print(\"WhiteboxTools exe path:\", wbt.exe_path)  # Should print the path to whitebox_tools.exe\n",
    "\n",
    "# Example: Fill depressions\n",
    "wbt.fill_depressions(\n",
    "    dem=\"2-warped-dem-utm.tif\",\n",
    "    output=\"3-dem-filled.tif\",\n",
    "    fix_flats=True\n",
    ")"
   ]
  },
  {
   "cell_type": "code",
   "execution_count": 19,
   "id": "4e8f1471-fd72-40b1-a6ae-23b279fd26e4",
   "metadata": {},
   "outputs": [],
   "source": [
    "# Preprocess DEM - warp dem\n",
    "dst_crs = 'EPSG:3460'  # Replace with your UTM zone\n",
    "\n",
    "with rasterio.open('1-dem-masked.tif') as src:\n",
    "    transform, width, height = calculate_default_transform(\n",
    "        src.crs, dst_crs, src.width, src.height, *src.bounds)\n",
    "    kwargs = src.meta.copy()\n",
    "    kwargs.update({'crs': dst_crs, 'transform': transform, 'width': width, 'height': height})\n",
    "\n",
    "    with rasterio.open('2-warped-dem-utm.tif', 'w', **kwargs) as dst:\n",
    "        for i in range(1, src.count + 1):\n",
    "            reproject(\n",
    "                source=rasterio.band(src, i),\n",
    "                destination=rasterio.band(dst, i),\n",
    "                src_transform=src.transform,\n",
    "                src_crs=src.crs,\n",
    "                dst_transform=transform,\n",
    "                dst_crs=dst_crs,\n",
    "                resampling=Resampling.bilinear)\n"
   ]
  },
  {
   "cell_type": "code",
   "execution_count": 20,
   "id": "a00c87bf-e1a3-4f47-9873-ed3a7555fff3",
   "metadata": {},
   "outputs": [
    {
     "name": "stdout",
     "output_type": "stream",
     "text": [
      "./whitebox_tools --run=\"FillDepressions\" --dem='2-warped-dem-utm.tif' --output='3-dem-filled.tif' --fix_flats -v --compress_rasters=False\n",
      "\n",
      "******************************\n",
      "* Welcome to FillDepressions *\n",
      "* Powered by WhiteboxTools   *\n",
      "* www.whiteboxgeo.com        *\n",
      "******************************\n",
      "Reading data...\n",
      "thread 'main' panicked at whitebox-tools-app/src/main.rs:72:21:\n",
      "No such file or directory (os error 2)\n",
      "note: run with `RUST_BACKTRACE=1` environment variable to display a backtrace\n"
     ]
    },
    {
     "data": {
      "text/plain": [
       "0"
      ]
     },
     "execution_count": 20,
     "metadata": {},
     "output_type": "execute_result"
    }
   ],
   "source": [
    "# Preprocess DEM - fill sinks\n",
    "\n",
    "wbt = whitebox.WhiteboxTools()\n",
    "\n",
    "# Run FillDepressions tool\n",
    "wbt.fill_depressions(\n",
    "    dem=\"2-warped-dem-utm.tif\",         # input DEM\n",
    "    output=\"3-dem-filled.tif\",        # output file\n",
    "    fix_flats=True,                   # handle flat areas\n",
    "    # verbose=True\n",
    ")"
   ]
  },
  {
   "cell_type": "code",
   "execution_count": 21,
   "id": "a8ac23cf-b9fd-4d4b-9dca-6900727fc79d",
   "metadata": {},
   "outputs": [
    {
     "name": "stdout",
     "output_type": "stream",
     "text": [
      "/srv/conda/envs/notebook/lib/python3.10/site-packages/whitebox\n"
     ]
    }
   ],
   "source": [
    "wbt = whitebox.WhiteboxTools()\n",
    "print(wbt.exe_path)"
   ]
  },
  {
   "cell_type": "code",
   "execution_count": null,
   "id": "ae80d0ca-f51a-4ad7-968e-bf3d0ca355a1",
   "metadata": {},
   "outputs": [],
   "source": []
  }
 ],
 "metadata": {
  "kernelspec": {
   "display_name": "Python 3 (ipykernel)",
   "language": "python",
   "name": "python3"
  },
  "language_info": {
   "codemirror_mode": {
    "name": "ipython",
    "version": 3
   },
   "file_extension": ".py",
   "mimetype": "text/x-python",
   "name": "python",
   "nbconvert_exporter": "python",
   "pygments_lexer": "ipython3",
   "version": "3.10.16"
  }
 },
 "nbformat": 4,
 "nbformat_minor": 5
}
