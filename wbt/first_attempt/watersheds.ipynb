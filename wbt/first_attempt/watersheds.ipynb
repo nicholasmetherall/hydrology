{
 "cells": [
  {
   "cell_type": "code",
   "execution_count": 4,
   "id": "168e4f1e-97f5-4348-9682-6079e75e0ceb",
   "metadata": {},
   "outputs": [
    {
     "ename": "ModuleNotFoundError",
     "evalue": "No module named 'gdal'",
     "output_type": "error",
     "traceback": [
      "\u001b[0;31m---------------------------------------------------------------------------\u001b[0m",
      "\u001b[0;31mModuleNotFoundError\u001b[0m                       Traceback (most recent call last)",
      "Cell \u001b[0;32mIn[4], line 3\u001b[0m\n\u001b[1;32m      1\u001b[0m \u001b[38;5;28;01mimport\u001b[39;00m\u001b[38;5;250m \u001b[39m\u001b[38;5;21;01mwhitebox\u001b[39;00m\n\u001b[1;32m      2\u001b[0m wbt \u001b[38;5;241m=\u001b[39m whitebox\u001b[38;5;241m.\u001b[39mWhiteboxTools()\n\u001b[0;32m----> 3\u001b[0m \u001b[38;5;28;01mimport\u001b[39;00m\u001b[38;5;250m \u001b[39m\u001b[38;5;21;01mgdal\u001b[39;00m\n\u001b[1;32m      4\u001b[0m \u001b[38;5;66;03m# wbt.set_working_dir(\".\")\u001b[39;00m\n",
      "\u001b[0;31mModuleNotFoundError\u001b[0m: No module named 'gdal'"
     ]
    }
   ],
   "source": [
    "import whitebox\n",
    "wbt = whitebox.WhiteboxTools()\n",
    "# wbt.set_working_dir(\".\")"
   ]
  },
  {
   "cell_type": "code",
   "execution_count": 5,
   "id": "9a2a3b1b-9f44-4fa0-9e53-ec093d318e22",
   "metadata": {},
   "outputs": [
    {
     "name": "stdout",
     "output_type": "stream",
     "text": [
      "Driver: GTiff/GeoTIFF\n",
      "Files: dem_gau.tif\n",
      "Size is 640, 834\n",
      "Coordinate System is:\n",
      "GEOGCRS[\"WGS 84\",\n",
      "    ENSEMBLE[\"World Geodetic System 1984 ensemble\",\n",
      "        MEMBER[\"World Geodetic System 1984 (Transit)\"],\n",
      "        MEMBER[\"World Geodetic System 1984 (G730)\"],\n",
      "        MEMBER[\"World Geodetic System 1984 (G873)\"],\n",
      "        MEMBER[\"World Geodetic System 1984 (G1150)\"],\n",
      "        MEMBER[\"World Geodetic System 1984 (G1674)\"],\n",
      "        MEMBER[\"World Geodetic System 1984 (G1762)\"],\n",
      "        MEMBER[\"World Geodetic System 1984 (G2139)\"],\n",
      "        MEMBER[\"World Geodetic System 1984 (G2296)\"],\n",
      "        ELLIPSOID[\"WGS 84\",6378137,298.257223563,\n",
      "            LENGTHUNIT[\"metre\",1]],\n",
      "        ENSEMBLEACCURACY[2.0]],\n",
      "    PRIMEM[\"Greenwich\",0,\n",
      "        ANGLEUNIT[\"degree\",0.0174532925199433]],\n",
      "    CS[ellipsoidal,2],\n",
      "        AXIS[\"geodetic latitude (Lat)\",north,\n",
      "            ORDER[1],\n",
      "            ANGLEUNIT[\"degree\",0.0174532925199433]],\n",
      "        AXIS[\"geodetic longitude (Lon)\",east,\n",
      "            ORDER[2],\n",
      "            ANGLEUNIT[\"degree\",0.0174532925199433]],\n",
      "    USAGE[\n",
      "        SCOPE[\"Horizontal component of 3D system.\"],\n",
      "        AREA[\"World.\"],\n",
      "        BBOX[-90,-180,90,180]],\n",
      "    ID[\"EPSG\",4326]]\n",
      "Data axis to CRS axis mapping: 2,1\n",
      "Origin = (179.226710920024459,-17.918022056598566)\n",
      "Pixel Size = (0.000269494585236,-0.000269494585236)\n",
      "Metadata:\n",
      "  AREA_OR_POINT=Area\n",
      "Image Structure Metadata:\n",
      "  COMPRESSION=LZW\n",
      "  INTERLEAVE=PIXEL\n",
      "Corner Coordinates:\n",
      "Upper Left  ( 179.2267109, -17.9180221) (179d13'36.16\"E, 17d55' 4.88\"S)\n",
      "Lower Left  ( 179.2267109, -18.1427805) (179d13'36.16\"E, 18d 8'34.01\"S)\n",
      "Upper Right ( 179.3991875, -17.9180221) (179d23'57.07\"E, 17d55' 4.88\"S)\n",
      "Lower Right ( 179.3991875, -18.1427805) (179d23'57.07\"E, 18d 8'34.01\"S)\n",
      "Center      ( 179.3129492, -18.0304013) (179d18'46.62\"E, 18d 1'49.44\"S)\n",
      "Band 1 Block=256x256 Type=Byte, ColorInterp=Red\n",
      "  Description = vis-red\n",
      "Band 2 Block=256x256 Type=Byte, ColorInterp=Green\n",
      "  Description = vis-green\n",
      "Band 3 Block=256x256 Type=Byte, ColorInterp=Blue\n",
      "  Description = vis-blue\n"
     ]
    }
   ],
   "source": [
    "!gdalinfo dem_gau.tif"
   ]
  },
  {
   "cell_type": "code",
   "execution_count": 4,
   "id": "b30fa8ba-9f53-4b35-8c77-2537e28a4b35",
   "metadata": {},
   "outputs": [
    {
     "data": {
      "application/vnd.jupyter.widget-view+json": {
       "model_id": "951cbf7912ab4ac197091a1c67680096",
       "version_major": 2,
       "version_minor": 0
      },
      "text/plain": [
       "HBox(children=(VBox(children=(Select(layout=Layout(height='175px', width='170px'), options=('All Tools', 'Math…"
      ]
     },
     "execution_count": 4,
     "metadata": {},
     "output_type": "execute_result"
    }
   ],
   "source": [
    "import whiteboxgui\n",
    "whiteboxgui.show()"
   ]
  },
  {
   "cell_type": "code",
   "execution_count": 3,
   "id": "db798d5c-54f7-4137-9c8a-cb0f5e746023",
   "metadata": {},
   "outputs": [
    {
     "name": "stdout",
     "output_type": "stream",
     "text": [
      "./whitebox_tools --run=\"FillDepressions\" --dem='dem_gau.tif' --output='dem_filled.tif' --fix_flats -v --compress_rasters=False\n",
      "\n",
      "******************************\n",
      "* Welcome to FillDepressions *\n",
      "* Powered by WhiteboxTools   *\n",
      "* www.whiteboxgeo.com        *\n",
      "******************************\n",
      "Reading data...\n",
      "thread 'main' panicked at whitebox-tools-app/src/main.rs:72:21:\n",
      "No such file or directory (os error 2)\n",
      "note: run with `RUST_BACKTRACE=1` environment variable to display a backtrace\n"
     ]
    },
    {
     "data": {
      "text/plain": [
       "0"
      ]
     },
     "execution_count": 3,
     "metadata": {},
     "output_type": "execute_result"
    }
   ],
   "source": [
    "wbt.fill_depressions(\n",
    "    dem=\"dem_gau.tif\", \n",
    "    output=\"dem_filled.tif\"\n",
    ")"
   ]
  },
  {
   "cell_type": "code",
   "execution_count": 3,
   "id": "045b7b46-499c-430f-b1f6-25ed95f6dd95",
   "metadata": {},
   "outputs": [
    {
     "name": "stdout",
     "output_type": "stream",
     "text": [
      "-rw-rw-r-- 1 jovyan users 217666 Jun  1 02:51 dem_gau.tif\n"
     ]
    }
   ],
   "source": [
    "ls -l dem_gau.tif"
   ]
  },
  {
   "cell_type": "code",
   "execution_count": 4,
   "id": "ef1449e7-3d48-44d4-90b4-d58002267103",
   "metadata": {},
   "outputs": [
    {
     "ename": "SyntaxError",
     "evalue": "invalid syntax (1505733883.py, line 1)",
     "output_type": "error",
     "traceback": [
      "\u001b[0;36m  Cell \u001b[0;32mIn[4], line 1\u001b[0;36m\u001b[0m\n\u001b[0;31m    ./whitebox_tools --run=\"FillDepressions\" --wd=\".\" --dem=/home/jovyan/dem_gau.tif --output=/home/jovyan/dem_filled.tif --fix_flats -v --compress_rasters=False\u001b[0m\n\u001b[0m    ^\u001b[0m\n\u001b[0;31mSyntaxError\u001b[0m\u001b[0;31m:\u001b[0m invalid syntax\n"
     ]
    }
   ],
   "source": []
  },
  {
   "cell_type": "code",
   "execution_count": null,
   "id": "d150cfb5-8cf3-44e4-904d-0e3dfadb14cd",
   "metadata": {},
   "outputs": [],
   "source": []
  }
 ],
 "metadata": {
  "kernelspec": {
   "display_name": "Python 3 (ipykernel)",
   "language": "python",
   "name": "python3"
  },
  "language_info": {
   "codemirror_mode": {
    "name": "ipython",
    "version": 3
   },
   "file_extension": ".py",
   "mimetype": "text/x-python",
   "name": "python",
   "nbconvert_exporter": "python",
   "pygments_lexer": "ipython3",
   "version": "3.10.18"
  }
 },
 "nbformat": 4,
 "nbformat_minor": 5
}
